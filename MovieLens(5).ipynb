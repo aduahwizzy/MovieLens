{
  "cells": [
    {
      "cell_type": "code",
      "execution_count": 1,
      "metadata": {
        "colab": {
          "base_uri": "https://localhost:8080/"
        },
        "id": "MmdzDALyoi4Q",
        "outputId": "112c1677-58c6-4c42-c8b5-6b6d5f6508e6"
      },
      "outputs": [
        {
          "output_type": "stream",
          "name": "stdout",
          "text": [
            "--2024-05-18 17:22:15--  https://files.grouplens.org/datasets/movielens/ml-25m.zip\n",
            "Resolving files.grouplens.org (files.grouplens.org)... 128.101.65.152\n",
            "Connecting to files.grouplens.org (files.grouplens.org)|128.101.65.152|:443... connected.\n",
            "HTTP request sent, awaiting response... 200 OK\n",
            "Length: 261978986 (250M) [application/zip]\n",
            "Saving to: ‘ml-25m.zip’\n",
            "\n",
            "ml-25m.zip          100%[===================>] 249.84M  79.5MB/s    in 3.3s    \n",
            "\n",
            "2024-05-18 17:22:19 (75.5 MB/s) - ‘ml-25m.zip’ saved [261978986/261978986]\n",
            "\n",
            "--2024-05-18 17:22:19--  https://files.grouplens.org/datasets/movielens/ml-latest-small.zip\n",
            "Resolving files.grouplens.org (files.grouplens.org)... 128.101.65.152\n",
            "Connecting to files.grouplens.org (files.grouplens.org)|128.101.65.152|:443... connected.\n",
            "HTTP request sent, awaiting response... 200 OK\n",
            "Length: 978202 (955K) [application/zip]\n",
            "Saving to: ‘ml-latest-small.zip’\n",
            "\n",
            "ml-latest-small.zip 100%[===================>] 955.28K  3.99MB/s    in 0.2s    \n",
            "\n",
            "2024-05-18 17:22:19 (3.99 MB/s) - ‘ml-latest-small.zip’ saved [978202/978202]\n",
            "\n"
          ]
        }
      ],
      "source": [
        "!wget \"https://files.grouplens.org/datasets/movielens/ml-25m.zip\"\n",
        "!wget \"https://files.grouplens.org/datasets/movielens/ml-latest-small.zip\""
      ]
    },
    {
      "cell_type": "code",
      "execution_count": 2,
      "metadata": {
        "colab": {
          "base_uri": "https://localhost:8080/"
        },
        "id": "87Irqmfcq2y4",
        "outputId": "400c050d-6fd3-4037-9bdf-a30cc54f8393"
      },
      "outputs": [
        {
          "output_type": "stream",
          "name": "stdout",
          "text": [
            "Archive:  ml-25m.zip\n",
            "   creating: ml-25m/\n",
            "  inflating: ml-25m/tags.csv         \n",
            "  inflating: ml-25m/links.csv        \n",
            "  inflating: ml-25m/README.txt       \n",
            "  inflating: ml-25m/ratings.csv      \n",
            "  inflating: ml-25m/genome-tags.csv  \n",
            "  inflating: ml-25m/genome-scores.csv  \n",
            "  inflating: ml-25m/movies.csv       \n",
            "Archive:  ml-latest-small.zip\n",
            "   creating: ml-latest-small/\n",
            "  inflating: ml-latest-small/links.csv  \n",
            "  inflating: ml-latest-small/tags.csv  \n",
            "  inflating: ml-latest-small/ratings.csv  \n",
            "  inflating: ml-latest-small/README.txt  \n",
            "  inflating: ml-latest-small/movies.csv  \n"
          ]
        }
      ],
      "source": [
        "!unzip ml-25m.zip\n",
        "!unzip ml-latest-small.zip\n",
        "#!pip install livelossplot"
      ]
    },
    {
      "cell_type": "code",
      "execution_count": null,
      "metadata": {
        "colab": {
          "base_uri": "https://localhost:8080/"
        },
        "id": "EN3yydkIgoY5",
        "outputId": "dd94bb72-5100-4a4d-f5cb-5beec856a1bd"
      },
      "outputs": [
        {
          "name": "stdout",
          "output_type": "stream",
          "text": [
            "Requirement already satisfied: pandas in /usr/local/lib/python3.10/dist-packages (2.0.3)\n",
            "Requirement already satisfied: python-dateutil>=2.8.2 in /usr/local/lib/python3.10/dist-packages (from pandas) (2.8.2)\n",
            "Requirement already satisfied: pytz>=2020.1 in /usr/local/lib/python3.10/dist-packages (from pandas) (2023.4)\n",
            "Requirement already satisfied: tzdata>=2022.1 in /usr/local/lib/python3.10/dist-packages (from pandas) (2024.1)\n",
            "Requirement already satisfied: numpy>=1.21.0 in /usr/local/lib/python3.10/dist-packages (from pandas) (1.25.2)\n",
            "Requirement already satisfied: six>=1.5 in /usr/local/lib/python3.10/dist-packages (from python-dateutil>=2.8.2->pandas) (1.16.0)\n"
          ]
        }
      ],
      "source": [
        "!pip install pandas"
      ]
    },
    {
      "cell_type": "code",
      "execution_count": 3,
      "metadata": {
        "id": "WKUdgvwnsGgv"
      },
      "outputs": [],
      "source": [
        "import pandas as pd\n",
        "import numpy as np\n",
        "\n",
        "import matplotlib.pyplot as plt\n",
        "#from livelossplot import PlotLosses\n",
        "\n",
        "import collections\n",
        "\n",
        "import gc\n",
        "from tqdm import tqdm"
      ]
    },
    {
      "cell_type": "code",
      "execution_count": 5,
      "metadata": {
        "id": "ZJluUbM_whNv"
      },
      "outputs": [],
      "source": [
        "class MovieIndexing:\n",
        "    def __init__(self, ratings_dataset):\n",
        "\n",
        "        self.ratings_dataset = ratings_dataset\n",
        "        self.movies_dict = {}\n",
        "        self.users_dict = {}\n",
        "\n",
        "        self.users_old_ids = []\n",
        "        self.movies_old_ids = []\n",
        "\n",
        "        self.users_train_lengths = []\n",
        "        self.users_test_lengths = []\n",
        "        self.movies_train_lengths = []\n",
        "        self.movies_test_lengths = []\n",
        "\n",
        "        self.maximum_user_count = 0\n",
        "        self.maximum_movie_count = 0\n",
        "\n",
        "        self.user_ratings, self.movie_ratings = self.__index_ratings()\n",
        "\n",
        "    def __index_ratings(self):\n",
        "\n",
        "        self.maximum_user_count = self.ratings_dataset['userId'].value_counts().max()\n",
        "        self.maximum_movie_count = self.ratings_dataset['movieId'].value_counts().max()\n",
        "\n",
        "        user_ratings = []\n",
        "        movie_ratings = []\n",
        "\n",
        "        user_counter = 0\n",
        "        movie_counter = 0\n",
        "\n",
        "        for row in tqdm(self.ratings_dataset.itertuples(), total = len(self.ratings_dataset)):\n",
        "            user_id = row[1]\n",
        "            movie_id = row[2]\n",
        "            rating = row[3]\n",
        "            timestamp = row[4]\n",
        "\n",
        "            # User indexing\n",
        "            if user_id not in self.users_dict:\n",
        "                self.users_dict[user_id] = user_counter\n",
        "                self.users_old_ids.append(user_id)\n",
        "                user_counter += 1\n",
        "\n",
        "            # Movie indexing\n",
        "            if movie_id not in self.movies_dict:\n",
        "                self.movies_dict[movie_id] = movie_counter\n",
        "                self.movies_old_ids.append(movie_id)\n",
        "                movie_counter += 1\n",
        "\n",
        "            user_idx = self.users_dict[user_id]\n",
        "            movie_idx = self.movies_dict[movie_id]\n",
        "\n",
        "            # Add rating to user ratings\n",
        "            while len(user_ratings) <= user_idx:\n",
        "                user_ratings.append([])\n",
        "            user_ratings[user_idx].append((movie_idx, rating, timestamp))\n",
        "\n",
        "            # Add rating to movie ratings\n",
        "            while len(movie_ratings) <= movie_idx:\n",
        "                movie_ratings.append([])\n",
        "            movie_ratings[movie_idx].append((user_idx, rating, timestamp))\n",
        "\n",
        "        return user_ratings, movie_ratings\n",
        "\n",
        "    def get_users_ratings(self):\n",
        "      return self.user_ratings\n",
        "\n",
        "    def get_movies_ratings(self):\n",
        "      return self.movie_ratings\n",
        "\n",
        "    def get_movie_ratings(self, movie_id):\n",
        "      return self.movie_ratings[movie_id]\n",
        "\n",
        "    def get_user_ratings(self, user_id):\n",
        "      return self.user_ratings[user_id]\n",
        "\n",
        "    def get_movie_title(self, movie_id):\n",
        "      title = self.movies_dict.get(key = movie_id, default = None)\n",
        "      return title\n",
        "\n",
        "    def get_num_users(self):\n",
        "      return len(self.user_ratings)\n",
        "\n",
        "    def get_num_movies(self):\n",
        "      return len(self.movie_ratings)\n",
        "\n",
        "    def get_old_user_id(self, new_id):\n",
        "      return self.users_old_ids[new_id]\n",
        "\n",
        "    def get_old_movie_id(self, new_id):\n",
        "      return self.movies_old_ids[new_id]\n",
        "\n",
        "    def split_dataset(self, split_users = True, train_proportion = 0.9):\n",
        "\n",
        "      if(train_proportion < 0 or train_proportion > 1):\n",
        "        raise ValueError(\"'train_proportion' cannot be negative or more than 1.\")\n",
        "\n",
        "      test_set = []\n",
        "      train_set = []\n",
        "      ratings = []\n",
        "\n",
        "      if(split_users):\n",
        "        ratings = self.user_ratings\n",
        "      else:\n",
        "        ratings = self.movie_ratings\n",
        "\n",
        "      for rating_list in tqdm(ratings, total = len(ratings)):\n",
        "\n",
        "        sorted_ratings = sorted(rating_list, key = lambda x: x[-1])\n",
        "        rating_list = [rating_tuple[:-1] for rating_tuple in sorted_ratings]\n",
        "        total_ratings = len(rating_list)\n",
        "        num_train_ratings = int(train_proportion * total_ratings)\n",
        "\n",
        "        if(split_users == False and len(rating_list) < 10):\n",
        "          train_set.append(rating_list)\n",
        "          test_set.append([])\n",
        "        else:\n",
        "          train_set.append(rating_list[0:num_train_ratings])\n",
        "          test_set.append(rating_list[num_train_ratings:])\n",
        "\n",
        "      if(split_users):\n",
        "        del self.user_ratings\n",
        "      else:\n",
        "        del self.movie_ratings\n",
        "\n",
        "      return train_set, test_set\n"
      ]
    },
    {
      "cell_type": "code",
      "execution_count": 32,
      "metadata": {
        "colab": {
          "base_uri": "https://localhost:8080/"
        },
        "id": "CeYRh3UqFUcf",
        "outputId": "0e82bd3e-eca7-40e7-8496-93f49a3e0664"
      },
      "outputs": [
        {
          "output_type": "stream",
          "name": "stderr",
          "text": [
            "100%|██████████| 25000095/25000095 [01:55<00:00, 215956.08it/s]\n"
          ]
        }
      ],
      "source": [
        "movies = MovieIndexing(ratings_dataset)\n",
        "# movies = MovieIndexing(ratings_dataset_small)"
      ]
    },
    {
      "cell_type": "code",
      "execution_count": 33,
      "metadata": {
        "colab": {
          "base_uri": "https://localhost:8080/"
        },
        "id": "5Abpc-llUCs3",
        "outputId": "bc80a170-a7ca-45a4-a5c8-6ad6f34e9534"
      },
      "outputs": [
        {
          "output_type": "stream",
          "name": "stderr",
          "text": [
            "100%|██████████| 162541/162541 [00:36<00:00, 4474.01it/s] \n",
            "100%|██████████| 59047/59047 [01:14<00:00, 797.64it/s]  \n"
          ]
        }
      ],
      "source": [
        "users_train_set, users_test_set = movies.split_dataset()\n",
        "movies_train_set, movies_test_set = movies.split_dataset(split_users = False)\n",
        "# users_train_set, users_test_set = movies.split_dataset(train_proportion = 1.0)\n",
        "# movies_train_set, movies_test_set = movies.split_dataset(split_users = False, train_proportion = 1.0)"
      ]
    },
    {
      "cell_type": "code",
      "execution_count": null,
      "metadata": {
        "colab": {
          "base_uri": "https://localhost:8080/"
        },
        "id": "-nT1ye898rv_",
        "outputId": "07a434ed-75c9-457a-8762-9ac525a3ac9b"
      },
      "outputs": [
        {
          "name": "stdout",
          "output_type": "stream",
          "text": [
            "Size of users training set: 162541    Size of users test set: 162541\n",
            "Size of movies training set: 59047    Size of movies test set: 59047\n"
          ]
        }
      ],
      "source": [
        "print(f\"Size of users training set: {len(users_train_set)}    Size of users test set: {len(users_test_set)}\")\n",
        "print(f\"Size of movies training set: {len(movies_train_set)}    Size of movies test set: {len(movies_test_set)}\")"
      ]
    },
    {
      "cell_type": "code",
      "execution_count": null,
      "metadata": {
        "id": "nD0LXUC05368"
      },
      "outputs": [],
      "source": [
        "seed = 42\n",
        "rnd  = np.random.RandomState(seed)"
      ]
    },
    {
      "cell_type": "code",
      "execution_count": null,
      "metadata": {
        "colab": {
          "base_uri": "https://localhost:8080/",
          "height": 564
        },
        "id": "7cbyxn_XhUxr",
        "outputId": "66a81927-dc63-4310-d191-c0917e1cebc6"
      },
      "outputs": [
        {
          "data": {
            "image/png": "[encoded data removed]",
            "text/plain": [
              "<Figure size 1200x600 with 2 Axes>"
            ]
          },
          "metadata": {},
          "output_type": "display_data"
        }
      ],
      "source": [
        "plot(rmses, losses)"
      ]
    },
    {
      "cell_type": "code",
      "execution_count": 6,
      "metadata": {
        "id": "WH8bSGMwWxSC"
      },
      "outputs": [],
      "source": [
        "seed = 42\n",
        "rnd = np.random.RandomState(seed)"
      ]
    },
    {
      "cell_type": "code",
      "execution_count": null,
      "metadata": {
        "id": "1RdCU4am3x77",
        "outputId": "8d01a6a9-da2b-4934-b512-1543e5c63991"
      },
      "outputs": [
        {
          "name": "stdout",
          "output_type": "stream",
          "text": [
            "Num users: 162541  Num movies: 59047\n"
          ]
        },
        {
          "name": "stderr",
          "output_type": "stream",
          "text": [
            "  3%|█▎                                       | 1/30 [02:55<1:24:36, 175.05s/it]"
          ]
        },
        {
          "name": "stdout",
          "output_type": "stream",
          "text": [
            "Train RMSE: 0.8467701394437652    Test RMSE: 0.8873798185069015 \t Train loss: 178434560.57637122 \t Test loss: 5800586.02892717\n"
          ]
        }
      ],
      "source": [
        "gc.disable()\n",
        "num_users = len(users_train_set)\n",
        "num_movies = len(movies_train_set)\n",
        "\n",
        "print(f\"Num users: {num_users}  Num movies: {num_movies}\")\n",
        "\n",
        "gamma = 0.0000002\n",
        "spread = 1\n",
        "tau = 1.5\n",
        "\n",
        "K = 5\n",
        "\n",
        "user_biases = np.zeros(num_users)\n",
        "item_biases = np.zeros(num_movies)\n",
        "\n",
        "u_m = np.random.normal(loc = 0, scale = (1 / np.sqrt(K)), size = (num_users, K))\n",
        "v_m = np.random.normal(loc = 0, scale = (1 / np.sqrt(K)), size = (num_movies, K))\n",
        "\n",
        "I = np.eye(K)\n",
        "\n",
        "train_losses = []\n",
        "test_losses = []\n",
        "\n",
        "train_rmses = []\n",
        "test_rmses = []\n",
        "\n",
        "train_rmse = 0\n",
        "test_rmse = 0\n",
        "\n",
        "for i in tqdm(range(30)):\n",
        "    loss = 0.0\n",
        "    errors = 0.0\n",
        "\n",
        "    # Update user biases\n",
        "    for m in range(num_users):\n",
        "        ratings = np.array(users_train_set[m])\n",
        "        item_ids = ratings[:, 0].astype(int)\n",
        "        item_ratings = ratings[:, 1]\n",
        "        biases = spread * (item_ratings - item_biases[item_ids])\n",
        "        user_biases[m] = np.sum(biases) / (spread * len(biases) + gamma)\n",
        "\n",
        "    # Update user latent vectors\n",
        "    for m in range(num_users):\n",
        "        ratings = np.array(users_train_set[m])\n",
        "        item_ids = ratings[:, 0].astype(int)\n",
        "        item_ratings = ratings[:, 1]\n",
        "        row_sum1 = np.dot(v_m[item_ids].T, v_m[item_ids])\n",
        "        row_sum2 = np.dot(v_m[item_ids].T, (item_ratings - user_biases[m] - item_biases[item_ids]))\n",
        "        product = np.linalg.solve(spread * row_sum1 + tau * I, spread * row_sum2)\n",
        "        u_m[m] = product\n",
        "\n",
        "    # Update item biases\n",
        "    for n in range(num_movies):\n",
        "        ratings = np.array(movies_train_set[n])\n",
        "        user_ids = ratings[:, 0].astype(int)\n",
        "        user_ratings = ratings[:, 1]\n",
        "        biases = spread * (user_ratings - user_biases[user_ids])\n",
        "        item_biases[n] = np.sum(biases) / (spread * len(biases) + gamma)\n",
        "\n",
        "    # Update item latent vectors\n",
        "    for n in range(num_movies):\n",
        "        ratings = np.array(movies_train_set[n])\n",
        "        user_ids = ratings[:, 0].astype(int)\n",
        "        user_ratings = ratings[:, 1]\n",
        "        row_sum1 = np.dot(u_m[user_ids].T, u_m[user_ids])\n",
        "        row_sum2 = np.dot(u_m[user_ids].T, (user_ratings - user_biases[user_ids] - item_biases[n]))\n",
        "        product = np.linalg.solve(spread * row_sum1 + tau * I, spread * row_sum2)\n",
        "        v_m[n] = product\n",
        "\n",
        "    # Compute loss and RMSE\n",
        "    total = 0\n",
        "    errors = 0\n",
        "    train_loss = 0\n",
        "    for m in range(num_users):\n",
        "        user_ratings = np.array(users_train_set[m])\n",
        "        item_ids = user_ratings[:, 0].astype(int)\n",
        "        ratings = user_ratings[:, 1]\n",
        "        predicted_ratings = np.dot(u_m[m], v_m[item_ids].T)\n",
        "        l1 = 0.5 * spread * np.sum((ratings - predicted_ratings - user_biases[m] - item_biases[item_ids]) ** 2)\n",
        "        l2 = np.dot(u_m[m], u_m[m])\n",
        "        l3 = np.sum(np.dot(v_m[item_ids], v_m[item_ids].T))\n",
        "        l4 = user_biases[m] ** 2\n",
        "        l5 = np.sum(item_biases[item_ids] ** 2)\n",
        "        train_loss += l1 + tau * 0.5 * (l2 + l3) + gamma * 0.5 * (l4 + l5)\n",
        "        errors += np.sum((ratings - predicted_ratings - user_biases[m] - item_biases[item_ids]) ** 2)\n",
        "        total += len(item_ids)\n",
        "\n",
        "    train_rmse = np.sqrt(errors / total)\n",
        "    train_rmses.append(train_rmse)\n",
        "    train_losses.append(train_loss)\n",
        "\n",
        "    # Compute test RMSE\n",
        "\n",
        "    total = 0\n",
        "    errors = 0\n",
        "    test_loss = 0\n",
        "    for n in range(num_users):\n",
        "        user_ratings = np.array(users_test_set[n])\n",
        "        item_ids = user_ratings[:, 0].astype(int)\n",
        "        ratings = user_ratings[:, 1]\n",
        "        predicted_ratings = np.dot(u_m[n], v_m[item_ids].T)\n",
        "        l1 = 0.5 * spread * np.sum((ratings - predicted_ratings - user_biases[n] - item_biases[item_ids]) ** 2)\n",
        "        l2 = np.dot(u_m[n], u_m[n])\n",
        "        l3 = np.sum(np.dot(v_m[item_ids], v_m[item_ids].T))\n",
        "        l4 = user_biases[n] ** 2\n",
        "        l5 = np.sum(item_biases[item_ids] ** 2)\n",
        "        test_loss += l1 + tau * 0.5 * (l2 + l3) + gamma * 0.5 * (l4 + l5)\n",
        "        errors += np.sum((ratings - predicted_ratings - user_biases[n] - item_biases[item_ids]) ** 2)\n",
        "        total += len(item_ids)\n",
        "\n",
        "    test_rmse = np.sqrt(errors / total)\n",
        "    test_rmses.append(test_rmse)\n",
        "    test_losses.append(test_loss)\n",
        "    print(f\"Train RMSE: {train_rmse}    Test RMSE: {test_rmse} \\t Train loss: {train_loss} \\t Test loss: {test_loss}\")\n",
        "\n",
        "    # errors = 0\n",
        "    # total = 0\n",
        "    # for n in range(num_movies):\n",
        "    #     user_ratings = np.array(movies_test_set[n])\n",
        "    #     if(len(user_ratings) == 0):\n",
        "    #         continue\n",
        "    #     item_ids = user_ratings[:, 0].astype(int)\n",
        "    #     ratings = user_ratings[:, 1]\n",
        "    #     predicted_ratings = np.dot(v_m[n], u_m[item_ids].T)\n",
        "    #     errors += np.sum((ratings - predicted_ratings - user_biases[item_ids] - item_biases[n]) ** 2)\n",
        "    #     total += len(item_ids)\n",
        "\n",
        "    # m_test_rmse = np.sqrt(errors / total)\n",
        "    # #m_test_rmses.append(test_rmse)\n",
        "    # print(f\"Train RMSE: {train_rmse}    Test RMSE: {test_rmse} \\t m_test_rmse: {m_test_rmse}\")\n",
        "    # #m_test_losses.append(loss)\n",
        "gc.enable()"
      ]
    },
    {
      "cell_type": "code",
      "execution_count": null,
      "metadata": {
        "id": "g3yR2gH6Be8q"
      },
      "outputs": [],
      "source": [
        "np.save(\"25M/user_vectors.npy\", u_m)\n",
        "np.save(\"25M/movie_vectors.npy\", v_m)\n",
        "np.save(\"25M/user_biases.npy\", user_biases)\n",
        "np.save(\"25M/item_biases.npy\", item_biases)\n",
        "np.save(\"25M/dimension.npy\", K)\n",
        "np.save(\"25M/gamma.npy\", gamma)\n",
        "np.save(\"25M/spread.npy\", spread)\n",
        "np.save(\"25M/tau.npy\", tau)\n",
        "\n",
        "np.save(\"25M/train_rmses.npy\", train_rmses)\n",
        "np.save(\"25M/train_losses.npy\", train_losses)\n",
        "np.save(\"25M/test_rmses.npy\", test_rmses)\n",
        "np.save(\"25M/test_losses.npy\", test_losses)"
      ]
    },
    {
      "cell_type": "code",
      "execution_count": null,
      "metadata": {
        "id": "wtXlphtcMoou"
      },
      "outputs": [],
      "source": [
        "users_latent_vectors = u_m\n",
        "movies_latent_vectors = v_m"
      ]
    },
    {
      "cell_type": "code",
      "execution_count": 6,
      "metadata": {
        "colab": {
          "base_uri": "https://localhost:8080/"
        },
        "id": "lEgAdOC2Muht",
        "outputId": "147b05c9-a249-4a74-f143-ae2e866efb89"
      },
      "outputs": [
        {
          "output_type": "stream",
          "name": "stdout",
          "text": [
            "Mounted at /content/gdrive\n"
          ]
        }
      ],
      "source": [
        "from google.colab import drive\n",
        "drive.mount('/content/gdrive')"
      ]
    },
    {
      "cell_type": "code",
      "source": [
        "!unzip \"/content/gdrive/MyDrive/final.zip\""
      ],
      "metadata": {
        "colab": {
          "base_uri": "https://localhost:8080/"
        },
        "id": "vDMUNjzlX1Yv",
        "outputId": "1be8c176-3ee7-4353-9f29-95c15afc9d09"
      },
      "execution_count": 7,
      "outputs": [
        {
          "output_type": "stream",
          "name": "stdout",
          "text": [
            "Archive:  /content/gdrive/MyDrive/final.zip\n",
            "  inflating: dimension2_l.npy        \n",
            "  inflating: dimension28.npy         \n",
            "  inflating: dimension_k4.npy        \n",
            "  inflating: dimension_k28.npy       \n",
            "  inflating: dimension_k281.npy      \n",
            "  inflating: gamma2_l.npy            \n",
            "  inflating: gamma28.npy             \n",
            "  inflating: gamma_k4.npy            \n",
            "  inflating: gamma_k28.npy           \n",
            "  inflating: gamma_k281.npy          \n",
            "  inflating: item_biases2_l.npy      \n",
            "  inflating: item_biases28.0npy.npy  \n",
            "  inflating: item_biases_k4.npy      \n",
            "  inflating: item_biases_k28.npy     \n",
            "  inflating: item_biases_k281.npy    \n",
            "  inflating: movie_vectors2_l.npy    \n",
            "  inflating: movie_vectors28.npy     \n",
            "  inflating: movie_vectors_k4.npy    \n",
            "  inflating: movie_vectors_k28.npy   \n",
            "  inflating: movie_vectors_k281.npy  \n",
            "  inflating: spread2_l.npy           \n",
            "  inflating: spread28.npy            \n",
            "  inflating: spread_k4.npy           \n",
            "  inflating: spread_k28.npy          \n",
            "  inflating: spread_k281.npy         \n",
            "  inflating: tau2_l.npy              \n",
            "  inflating: tau28.npy               \n",
            "  inflating: tau_k4.npy              \n",
            "  inflating: tau_k28.npy             \n",
            "  inflating: tau_k281.npy            \n",
            "  inflating: test_losses2_l.npy      \n",
            "  inflating: test_losses28.npy       \n",
            "  inflating: test_losses_k4.npy      \n",
            "  inflating: test_losses_k28.npy     \n",
            "  inflating: test_losses_k281.npy    \n",
            "  inflating: test_rmses2_l.npy       \n",
            "  inflating: test_rmses28.npy        \n",
            "  inflating: test_rmses_k4.npy       \n",
            "  inflating: test_rmses_k28.npy      \n",
            "  inflating: test_rmses_k281.npy     \n",
            "  inflating: train_losses2_l.npy     \n",
            "  inflating: train_losses28.npy      \n",
            "  inflating: train_losses_k4.npy     \n",
            "  inflating: train_losses_k28.npy    \n",
            "  inflating: train_losses_k281.npy   \n",
            "  inflating: train_rmses2_l.npy      \n",
            "  inflating: train_rmses28.npy       \n",
            "  inflating: train_rmses_k4.npy      \n",
            "  inflating: train_rmses_k28.npy     \n",
            "  inflating: train_rmses_k281.npy    \n",
            "  inflating: user_biases2_l.npy      \n",
            "  inflating: user_biases28.npy       \n",
            "  inflating: user_biases_k4.npy      \n",
            "  inflating: user_biases_k28.npy     \n",
            "  inflating: user_biases_k281.npy    \n",
            "  inflating: user_vectors2_l.npy     \n",
            "  inflating: user_vectors28.npy      \n",
            "  inflating: user_vectors_k4.npy     \n",
            "  inflating: user_vectors_k28.npy    \n",
            "  inflating: user_vectors_k281.npy   \n"
          ]
        }
      ]
    },
    {
      "cell_type": "code",
      "execution_count": 26,
      "metadata": {
        "id": "oC7ZvtoILr0T"
      },
      "outputs": [],
      "source": [
        "users_latent_vectors = np.load(\"user_vectors2_l.npy\")\n",
        "movies_latent_vectors = np.load(\"movie_vectors2_l.npy\")\n",
        "item_biases = np.load(\"item_biases2_l.npy\")\n",
        "user_biases = np.load(\"user_biases2_l.npy\")\n",
        "train_rmses = np.load(\"train_rmses2_l.npy\")\n",
        "train_losses = np.load(\"train_losses2_l.npy\")\n",
        "test_rmses = np.load(\"test_rmses2_l.npy\")\n",
        "test_losses = np.load(\"test_losses2_l.npy\")\n",
        "K = np.load(\"dimension2_l.npy\")\n",
        "gamma = np.load(\"gamma2_l.npy\")\n",
        "spread = np.load(\"spread2_l.npy\")\n",
        "tau = np.load(\"tau2_l.npy\")"
      ]
    },
    {
      "cell_type": "code",
      "source": [
        "list(test_losses)[-1]"
      ],
      "metadata": {
        "colab": {
          "base_uri": "https://localhost:8080/"
        },
        "id": "WVhsJr60iRvG",
        "outputId": "0ace7558-08bc-4de3-bf52-7dd4db4d392b"
      },
      "execution_count": null,
      "outputs": [
        {
          "output_type": "execute_result",
          "data": {
            "text/plain": [
              "102669.30356115353"
            ]
          },
          "metadata": {},
          "execution_count": 23
        }
      ]
    },
    {
      "cell_type": "code",
      "execution_count": 18,
      "metadata": {
        "id": "BYhEhILQHSwX"
      },
      "outputs": [],
      "source": [
        "def plot(rmses_train, rmses_test, losses_train, losses_test, title, K):\n",
        "    epochs = range(1, len(train_losses) + 1)\n",
        "\n",
        "    plt.figure(figsize=(12, 6))\n",
        "    plt.subplot(1, 2, 1)\n",
        "    plt.plot(epochs, losses_train, label = \"Train\")\n",
        "    plt.plot(epochs, losses_test, color = 'orange', label = \"Test\")\n",
        "\n",
        "    plt.xlabel('Epochs')\n",
        "    plt.ylabel('Loss')\n",
        "    plt.title('Loss Over 30 Epochs for K = '+str(K))\n",
        "    plt.grid(True)\n",
        "\n",
        "    plt.subplot(1, 2, 2)\n",
        "    plt.plot(epochs, rmses_train, label = \"Train\")\n",
        "    plt.plot(epochs, rmses_test, color = 'orange', label = 'Test')\n",
        "\n",
        "    plt.xlabel('Epochs')\n",
        "    plt.ylabel('RMSE')\n",
        "    plt.title('RMSE Over 30 Epochs for K = '+str(K))\n",
        "\n",
        "    plt.grid(True)\n",
        "    plt.legend()\n",
        "    plt.savefig(title+\".pdf\")\n",
        "\n",
        "    plt.show()"
      ]
    },
    {
      "cell_type": "code",
      "execution_count": 27,
      "metadata": {
        "id": "gycKNpcELr0U",
        "outputId": "e3ce3ac7-bd43-4595-b75c-56874750a068",
        "colab": {
          "base_uri": "https://localhost:8080/",
          "height": 564
        }
      },
      "outputs": [
        {
          "output_type": "display_data",
          "data": {
            "text/plain": [
              "<Figure size 1200x600 with 2 Axes>"
            ],
            "image/png": "[encoded data removed]"
          },
          "metadata": {}
        }
      ],
      "source": [
        "plot(train_rmses, test_rmses, train_losses, test_losses, \"loss and rmse for K = \"+str(K), K)"
      ]
    },
    {
      "cell_type": "code",
      "source": [
        "print(f\"Train loss: {train_losses[-1]}\")\n",
        "print(f\"Test loss: {test_losses[-1]}\")\n",
        "print(f\"Train rmse: {train_rmses[-1]}\")\n",
        "print(f\"Test rmse: {test_rmses[-1]}\")\n",
        "print(f\"K: {K}\")\n",
        "print(f\"Gamma: {gamma}\")\n",
        "print(f\"Spread: {spread}\")\n",
        "print(f\"Tau: {tau}\")"
      ],
      "metadata": {
        "colab": {
          "base_uri": "https://localhost:8080/"
        },
        "id": "it5_6MCxFp3W",
        "outputId": "0feee0a2-7284-41a7-f139-7fd3902ff7d5"
      },
      "execution_count": 25,
      "outputs": [
        {
          "output_type": "stream",
          "name": "stdout",
          "text": [
            "Train loss: -182959685.82865566\n",
            "Test loss: -4627020.646469364\n",
            "Train rmse: 0.6141351389755879\n",
            "Test rmse: 0.8011734188631335\n",
            "K: 28\n",
            "Gamma: 0.2\n",
            "Spread: 1.0\n",
            "Tau: 0.2\n"
          ]
        }
      ]
    },
    {
      "cell_type": "code",
      "source": [
        "seed = 42\n",
        "rnd  = np.random.RandomState(seed)"
      ],
      "metadata": {
        "id": "xgZat8V26g8N"
      },
      "execution_count": 28,
      "outputs": []
    },
    {
      "cell_type": "markdown",
      "source": [
        "### Train new User"
      ],
      "metadata": {
        "id": "2wVEQoch_RFb"
      }
    },
    {
      "cell_type": "code",
      "execution_count": 89,
      "metadata": {
        "colab": {
          "base_uri": "https://localhost:8080/"
        },
        "id": "iPsjU9l4Lr0U",
        "outputId": "eab38ff1-2027-48bb-a3f0-e321040b8e75"
      },
      "outputs": [
        {
          "output_type": "stream",
          "name": "stdout",
          "text": [
            "Epoch: 0 \t RMSE:  24.7512 \t User bias:  0.0125 \t Movie bias:  0.0125\n",
            "Epoch: 1 \t RMSE:  24.7519 \t User bias:  0.0124 \t Movie bias:  0.0124\n",
            "Epoch: 2 \t RMSE:  24.7519 \t User bias:  0.0124 \t Movie bias:  0.0124\n",
            "Epoch: 3 \t RMSE:  24.7519 \t User bias:  0.0124 \t Movie bias:  0.0124\n",
            "Epoch: 4 \t RMSE:  24.7519 \t User bias:  0.0124 \t Movie bias:  0.0124\n"
          ]
        }
      ],
      "source": [
        "#K = 10\n",
        "u_bias = 0\n",
        "m_bias = 0\n",
        "\n",
        "rating = 5\n",
        "\n",
        "gamma = 0.8\n",
        "spread = 0.002\n",
        "tau = 1\n",
        "\n",
        "I = np.eye(K, K)\n",
        "new_u = np.random.normal(loc = 0, scale = (1 / np.sqrt(K)), size = (1, K))\n",
        "new_m = np.random.normal(loc = 0, scale = (1 / np.sqrt(K)), size = (1, K))\n",
        "\n",
        "for i in range(5):\n",
        "  u_bias = spread * (rating - u_bias) / (spread + gamma)\n",
        "\n",
        "  sum_1 = np.outer(new_m, new_m)\n",
        "  sum_2 = new_m * (rating - u_bias - m_bias)\n",
        "  product = np.linalg.inv(spread * sum_1 + tau * I).dot((spread * sum_2).squeeze())\n",
        "  new_u = product\n",
        "\n",
        "  m_bias = spread * (rating - m_bias) / (spread + gamma)\n",
        "\n",
        "  sum_1 = np.outer(new_u, new_u)\n",
        "  sum_2 = new_u * (rating - u_bias - m_bias)\n",
        "  product = np.linalg.inv(spread * sum_1 + tau * I).dot((spread * sum_2).squeeze())\n",
        "  new_m = product\n",
        "\n",
        "  error = (rating - np.dot(new_u, new_m) - u_bias - m_bias) ** 2\n",
        "  print(f\"Epoch: {i} \\t RMSE: {error: .4f} \\t User bias: {u_bias: .4f} \\t Movie bias: {m_bias: .4f}\")"
      ]
    },
    {
      "cell_type": "code",
      "execution_count": 34,
      "metadata": {
        "id": "fyKCpbonLr0V"
      },
      "outputs": [],
      "source": [
        "def rank_movies():\n",
        "    pairs = []\n",
        "    scores = []\n",
        "    scores_rank = []\n",
        "    for i in range(len(movies_latent_vectors)):\n",
        "        score = np.dot(new_u, movies_latent_vectors[i]) + 0.05 * item_biases[i]\n",
        "        scores.append((score, i))\n",
        "    sorted_scores = sorted(scores, key = lambda x: x[0])\n",
        "\n",
        "    top_scores = []\n",
        "    for score, movie_index in sorted_scores:\n",
        "        if(len(movies_train_set[movie_index]) > 100):\n",
        "          movie_id = movies.get_old_movie_id(movie_index)\n",
        "          pairs.append((movie_index, movie_id))\n",
        "          top_scores.append(movie_id)\n",
        "          scores_rank.append(score)\n",
        "    print(len(top_scores))\n",
        "    #filtered_titles = movies_dataset[movies_dataset['movieId'].isin(top_scores)]['title']\n",
        "    return scores_rank, top_scores, scores, pairs\n"
      ]
    },
    {
      "cell_type": "code",
      "execution_count": null,
      "metadata": {
        "id": "UIJOPqriWxSH",
        "outputId": "efc6db7d-0808-4c9b-cdb1-2a375dd3bb3e"
      },
      "outputs": [
        {
          "name": "stdout",
          "output_type": "stream",
          "text": [
            "[ 2.00035506 -0.08283249  1.36801744  0.72791832  0.33492904 -0.87883501\n",
            "  0.99889196 -1.21403768  1.38070329 -0.79975166  0.44378642  0.43204764\n",
            " -0.36667291]\n",
            "[ 0.21723506 -0.00899546  0.1485643   0.07905066  0.03637271 -0.09543994\n",
            "  0.10847792 -0.13184237  0.14994196 -0.08685163  0.04819443  0.04691962\n",
            " -0.03982004]\n"
          ]
        }
      ],
      "source": [
        "print(new_u)\n",
        "print(new_m)"
      ]
    },
    {
      "cell_type": "code",
      "execution_count": 90,
      "metadata": {
        "colab": {
          "base_uri": "https://localhost:8080/"
        },
        "id": "Po-i44YJRKW3",
        "outputId": "7efdd82a-eb1b-4781-f71f-2b638a0178a0"
      },
      "outputs": [
        {
          "output_type": "stream",
          "name": "stdout",
          "text": [
            "9899\n"
          ]
        }
      ],
      "source": [
        "rank, top_scorers, scores, pairs = rank_movies()"
      ]
    },
    {
      "cell_type": "code",
      "execution_count": 91,
      "metadata": {
        "id": "S2pVxrNHW7yJ"
      },
      "outputs": [],
      "source": [
        "#print(top_scorers[:10])\n",
        "titles = [movies_dataset.loc[movies_dataset['movieId'] == scorer, 'title'].values[0] for scorer in top_scorers]"
      ]
    },
    {
      "cell_type": "code",
      "execution_count": 92,
      "metadata": {
        "colab": {
          "base_uri": "https://localhost:8080/"
        },
        "id": "d9nARO7Rhf-p",
        "outputId": "98a024da-98a6-421d-83e5-2eafba878e1e"
      },
      "outputs": [
        {
          "output_type": "stream",
          "name": "stdout",
          "text": [
            "['12 Angry Men (1957)', 'Cosmos', 'The Blue Planet (2001)', 'Century of the Self, The (2002)', 'Band of Brothers (2001)', 'Life (2009)', 'Blue Planet II (2017)', 'Shawshank Redemption, The (1994)', 'Planet Earth II (2016)', 'Planet Earth (2006)']\n",
            "[1203, 171495, 142115, 105250, 170705, 159819, 179135, 318, 171011, 159817]\n",
            "[0.03768442599415367, 0.0377252656158001, 0.04033724176598286, 0.04088925836342577, 0.041584549634718526, 0.042465158337983415, 0.04281422476320074, 0.04286344792810581, 0.04872656281749027, 0.04932526595808512]\n"
          ]
        }
      ],
      "source": [
        "print(titles[-10:])\n",
        "print(top_scorers[-10:])\n",
        "print(rank[-10:])\n",
        "#top_ten_recommendations = pd.DataFrame(titles[-10], columns = ['Title'])"
      ]
    },
    {
      "cell_type": "markdown",
      "source": [
        "### Top 10 recommendation for new user"
      ],
      "metadata": {
        "id": "8oUeR7e6GXxC"
      }
    },
    {
      "cell_type": "code",
      "source": [
        "top_list = titles[-10:]\n",
        "top_ten_recommendations = pd.DataFrame({'Title': top_list})\n",
        "top_ten_recommendations.iloc[::-1]"
      ],
      "metadata": {
        "colab": {
          "base_uri": "https://localhost:8080/",
          "height": 363
        },
        "id": "mkWxSsPX96Tk",
        "outputId": "ac1eef5c-7c9c-4112-9463-963bd925b27f"
      },
      "execution_count": 101,
      "outputs": [
        {
          "output_type": "execute_result",
          "data": {
            "text/plain": [
              "                              Title\n",
              "9               Planet Earth (2006)\n",
              "8            Planet Earth II (2016)\n",
              "7  Shawshank Redemption, The (1994)\n",
              "6             Blue Planet II (2017)\n",
              "5                       Life (2009)\n",
              "4           Band of Brothers (2001)\n",
              "3   Century of the Self, The (2002)\n",
              "2            The Blue Planet (2001)\n",
              "1                            Cosmos\n",
              "0               12 Angry Men (1957)"
            ],
            "text/html": [
              "\n",
              "  <div id=\"df-c954b019-9389-4fb3-9da2-8da7558e8f1a\" class=\"colab-df-container\">\n",
              "    <div>\n",
              "<style scoped>\n",
              "    .dataframe tbody tr th:only-of-type {\n",
              "        vertical-align: middle;\n",
              "    }\n",
              "\n",
              "    .dataframe tbody tr th {\n",
              "        vertical-align: top;\n",
              "    }\n",
              "\n",
              "    .dataframe thead th {\n",
              "        text-align: right;\n",
              "    }\n",
              "</style>\n",
              "<table border=\"1\" class=\"dataframe\">\n",
              "  <thead>\n",
              "    <tr style=\"text-align: right;\">\n",
              "      <th></th>\n",
              "      <th>Title</th>\n",
              "    </tr>\n",
              "  </thead>\n",
              "  <tbody>\n",
              "    <tr>\n",
              "      <th>9</th>\n",
              "      <td>Planet Earth (2006)</td>\n",
              "    </tr>\n",
              "    <tr>\n",
              "      <th>8</th>\n",
              "      <td>Planet Earth II (2016)</td>\n",
              "    </tr>\n",
              "    <tr>\n",
              "      <th>7</th>\n",
              "      <td>Shawshank Redemption, The (1994)</td>\n",
              "    </tr>\n",
              "    <tr>\n",
              "      <th>6</th>\n",
              "      <td>Blue Planet II (2017)</td>\n",
              "    </tr>\n",
              "    <tr>\n",
              "      <th>5</th>\n",
              "      <td>Life (2009)</td>\n",
              "    </tr>\n",
              "    <tr>\n",
              "      <th>4</th>\n",
              "      <td>Band of Brothers (2001)</td>\n",
              "    </tr>\n",
              "    <tr>\n",
              "      <th>3</th>\n",
              "      <td>Century of the Self, The (2002)</td>\n",
              "    </tr>\n",
              "    <tr>\n",
              "      <th>2</th>\n",
              "      <td>The Blue Planet (2001)</td>\n",
              "    </tr>\n",
              "    <tr>\n",
              "      <th>1</th>\n",
              "      <td>Cosmos</td>\n",
              "    </tr>\n",
              "    <tr>\n",
              "      <th>0</th>\n",
              "      <td>12 Angry Men (1957)</td>\n",
              "    </tr>\n",
              "  </tbody>\n",
              "</table>\n",
              "</div>\n",
              "    <div class=\"colab-df-buttons\">\n",
              "\n",
              "  <div class=\"colab-df-container\">\n",
              "    <button class=\"colab-df-convert\" onclick=\"convertToInteractive('df-c954b019-9389-4fb3-9da2-8da7558e8f1a')\"\n",
              "            title=\"Convert this dataframe to an interactive table.\"\n",
              "            style=\"display:none;\">\n",
              "\n",
              "  <svg xmlns=\"http://www.w3.org/2000/svg\" height=\"24px\" viewBox=\"0 -960 960 960\">\n",
              "    <path d=\"M120-120v-720h720v720H120Zm60-500h600v-160H180v160Zm220 220h160v-160H400v160Zm0 220h160v-160H400v160ZM180-400h160v-160H180v160Zm440 0h160v-160H620v160ZM180-180h160v-160H180v160Zm440 0h160v-160H620v160Z\"/>\n",
              "  </svg>\n",
              "    </button>\n",
              "\n",
              "  <style>\n",
              "    .colab-df-container {\n",
              "      display:flex;\n",
              "      gap: 12px;\n",
              "    }\n",
              "\n",
              "    .colab-df-convert {\n",
              "      background-color: #E8F0FE;\n",
              "      border: none;\n",
              "      border-radius: 50%;\n",
              "      cursor: pointer;\n",
              "      display: none;\n",
              "      fill: #1967D2;\n",
              "      height: 32px;\n",
              "      padding: 0 0 0 0;\n",
              "      width: 32px;\n",
              "    }\n",
              "\n",
              "    .colab-df-convert:hover {\n",
              "      background-color: #E2EBFA;\n",
              "      box-shadow: 0px 1px 2px rgba(60, 64, 67, 0.3), 0px 1px 3px 1px rgba(60, 64, 67, 0.15);\n",
              "      fill: #174EA6;\n",
              "    }\n",
              "\n",
              "    .colab-df-buttons div {\n",
              "      margin-bottom: 4px;\n",
              "    }\n",
              "\n",
              "    [theme=dark] .colab-df-convert {\n",
              "      background-color: #3B4455;\n",
              "      fill: #D2E3FC;\n",
              "    }\n",
              "\n",
              "    [theme=dark] .colab-df-convert:hover {\n",
              "      background-color: #434B5C;\n",
              "      box-shadow: 0px 1px 3px 1px rgba(0, 0, 0, 0.15);\n",
              "      filter: drop-shadow(0px 1px 2px rgba(0, 0, 0, 0.3));\n",
              "      fill: #FFFFFF;\n",
              "    }\n",
              "  </style>\n",
              "\n",
              "    <script>\n",
              "      const buttonEl =\n",
              "        document.querySelector('#df-c954b019-9389-4fb3-9da2-8da7558e8f1a button.colab-df-convert');\n",
              "      buttonEl.style.display =\n",
              "        google.colab.kernel.accessAllowed ? 'block' : 'none';\n",
              "\n",
              "      async function convertToInteractive(key) {\n",
              "        const element = document.querySelector('#df-c954b019-9389-4fb3-9da2-8da7558e8f1a');\n",
              "        const dataTable =\n",
              "          await google.colab.kernel.invokeFunction('convertToInteractive',\n",
              "                                                    [key], {});\n",
              "        if (!dataTable) return;\n",
              "\n",
              "        const docLinkHtml = 'Like what you see? Visit the ' +\n",
              "          '<a target=\"_blank\" href=https://colab.research.google.com/notebooks/data_table.ipynb>data table notebook</a>'\n",
              "          + ' to learn more about interactive tables.';\n",
              "        element.innerHTML = '';\n",
              "        dataTable['output_type'] = 'display_data';\n",
              "        await google.colab.output.renderOutput(dataTable, element);\n",
              "        const docLink = document.createElement('div');\n",
              "        docLink.innerHTML = docLinkHtml;\n",
              "        element.appendChild(docLink);\n",
              "      }\n",
              "    </script>\n",
              "  </div>\n",
              "\n",
              "\n",
              "<div id=\"df-3e0e4abb-9702-409e-9e15-1af7fbb32ed3\">\n",
              "  <button class=\"colab-df-quickchart\" onclick=\"quickchart('df-3e0e4abb-9702-409e-9e15-1af7fbb32ed3')\"\n",
              "            title=\"Suggest charts\"\n",
              "            style=\"display:none;\">\n",
              "\n",
              "<svg xmlns=\"http://www.w3.org/2000/svg\" height=\"24px\"viewBox=\"0 0 24 24\"\n",
              "     width=\"24px\">\n",
              "    <g>\n",
              "        <path d=\"M19 3H5c-1.1 0-2 .9-2 2v14c0 1.1.9 2 2 2h14c1.1 0 2-.9 2-2V5c0-1.1-.9-2-2-2zM9 17H7v-7h2v7zm4 0h-2V7h2v10zm4 0h-2v-4h2v4z\"/>\n",
              "    </g>\n",
              "</svg>\n",
              "  </button>\n",
              "\n",
              "<style>\n",
              "  .colab-df-quickchart {\n",
              "      --bg-color: #E8F0FE;\n",
              "      --fill-color: #1967D2;\n",
              "      --hover-bg-color: #E2EBFA;\n",
              "      --hover-fill-color: #174EA6;\n",
              "      --disabled-fill-color: #AAA;\n",
              "      --disabled-bg-color: #DDD;\n",
              "  }\n",
              "\n",
              "  [theme=dark] .colab-df-quickchart {\n",
              "      --bg-color: #3B4455;\n",
              "      --fill-color: #D2E3FC;\n",
              "      --hover-bg-color: #434B5C;\n",
              "      --hover-fill-color: #FFFFFF;\n",
              "      --disabled-bg-color: #3B4455;\n",
              "      --disabled-fill-color: #666;\n",
              "  }\n",
              "\n",
              "  .colab-df-quickchart {\n",
              "    background-color: var(--bg-color);\n",
              "    border: none;\n",
              "    border-radius: 50%;\n",
              "    cursor: pointer;\n",
              "    display: none;\n",
              "    fill: var(--fill-color);\n",
              "    height: 32px;\n",
              "    padding: 0;\n",
              "    width: 32px;\n",
              "  }\n",
              "\n",
              "  .colab-df-quickchart:hover {\n",
              "    background-color: var(--hover-bg-color);\n",
              "    box-shadow: 0 1px 2px rgba(60, 64, 67, 0.3), 0 1px 3px 1px rgba(60, 64, 67, 0.15);\n",
              "    fill: var(--button-hover-fill-color);\n",
              "  }\n",
              "\n",
              "  .colab-df-quickchart-complete:disabled,\n",
              "  .colab-df-quickchart-complete:disabled:hover {\n",
              "    background-color: var(--disabled-bg-color);\n",
              "    fill: var(--disabled-fill-color);\n",
              "    box-shadow: none;\n",
              "  }\n",
              "\n",
              "  .colab-df-spinner {\n",
              "    border: 2px solid var(--fill-color);\n",
              "    border-color: transparent;\n",
              "    border-bottom-color: var(--fill-color);\n",
              "    animation:\n",
              "      spin 1s steps(1) infinite;\n",
              "  }\n",
              "\n",
              "  @keyframes spin {\n",
              "    0% {\n",
              "      border-color: transparent;\n",
              "      border-bottom-color: var(--fill-color);\n",
              "      border-left-color: var(--fill-color);\n",
              "    }\n",
              "    20% {\n",
              "      border-color: transparent;\n",
              "      border-left-color: var(--fill-color);\n",
              "      border-top-color: var(--fill-color);\n",
              "    }\n",
              "    30% {\n",
              "      border-color: transparent;\n",
              "      border-left-color: var(--fill-color);\n",
              "      border-top-color: var(--fill-color);\n",
              "      border-right-color: var(--fill-color);\n",
              "    }\n",
              "    40% {\n",
              "      border-color: transparent;\n",
              "      border-right-color: var(--fill-color);\n",
              "      border-top-color: var(--fill-color);\n",
              "    }\n",
              "    60% {\n",
              "      border-color: transparent;\n",
              "      border-right-color: var(--fill-color);\n",
              "    }\n",
              "    80% {\n",
              "      border-color: transparent;\n",
              "      border-right-color: var(--fill-color);\n",
              "      border-bottom-color: var(--fill-color);\n",
              "    }\n",
              "    90% {\n",
              "      border-color: transparent;\n",
              "      border-bottom-color: var(--fill-color);\n",
              "    }\n",
              "  }\n",
              "</style>\n",
              "\n",
              "  <script>\n",
              "    async function quickchart(key) {\n",
              "      const quickchartButtonEl =\n",
              "        document.querySelector('#' + key + ' button');\n",
              "      quickchartButtonEl.disabled = true;  // To prevent multiple clicks.\n",
              "      quickchartButtonEl.classList.add('colab-df-spinner');\n",
              "      try {\n",
              "        const charts = await google.colab.kernel.invokeFunction(\n",
              "            'suggestCharts', [key], {});\n",
              "      } catch (error) {\n",
              "        console.error('Error during call to suggestCharts:', error);\n",
              "      }\n",
              "      quickchartButtonEl.classList.remove('colab-df-spinner');\n",
              "      quickchartButtonEl.classList.add('colab-df-quickchart-complete');\n",
              "    }\n",
              "    (() => {\n",
              "      let quickchartButtonEl =\n",
              "        document.querySelector('#df-3e0e4abb-9702-409e-9e15-1af7fbb32ed3 button');\n",
              "      quickchartButtonEl.style.display =\n",
              "        google.colab.kernel.accessAllowed ? 'block' : 'none';\n",
              "    })();\n",
              "  </script>\n",
              "</div>\n",
              "    </div>\n",
              "  </div>\n"
            ],
            "application/vnd.google.colaboratory.intrinsic+json": {
              "type": "dataframe",
              "summary": "{\n  \"name\": \"top_ten_recommendations\",\n  \"rows\": 10,\n  \"fields\": [\n    {\n      \"column\": \"Title\",\n      \"properties\": {\n        \"dtype\": \"string\",\n        \"num_unique_values\": 10,\n        \"samples\": [\n          \"Cosmos\",\n          \"Planet Earth II (2016)\",\n          \"Band of Brothers (2001)\"\n        ],\n        \"semantic_type\": \"\",\n        \"description\": \"\"\n      }\n    }\n  ]\n}"
            }
          },
          "metadata": {},
          "execution_count": 101
        }
      ]
    },
    {
      "cell_type": "code",
      "execution_count": null,
      "metadata": {
        "id": "0shepQN1WxSJ",
        "outputId": "43cfda8c-e691-4cef-f4c8-aed2e687c6bd"
      },
      "outputs": [
        {
          "name": "stdout",
          "output_type": "stream",
          "text": [
            "[(79, 318), (76, 260), (82, 356), (260, 593), (0, 296), (159, 2571), (86, 480)]\n"
          ]
        }
      ],
      "source": [
        "print(pairs[:10])"
      ]
    },
    {
      "cell_type": "code",
      "execution_count": null,
      "metadata": {
        "id": "m3S__z3qWxSJ",
        "outputId": "503a099e-a417-4d3b-9e8a-158fecd83027"
      },
      "outputs": [
        {
          "name": "stdout",
          "output_type": "stream",
          "text": [
            "[(4, 20), (100, 2)]\n"
          ]
        }
      ],
      "source": [
        "a = []\n",
        "a.append((-2, 3))\n",
        "a.append((100, 2))\n",
        "a.append((-7, 1))\n",
        "a.append((4, 20))\n",
        "b = sorted(a, key = lambda x: x[0])\n",
        "print(b[2:])"
      ]
    },
    {
      "cell_type": "markdown",
      "metadata": {
        "id": "TFpwvCwfWxSJ"
      },
      "source": [
        "print(movies.movies_dict.get(480))"
      ]
    },
    {
      "cell_type": "code",
      "execution_count": null,
      "metadata": {
        "colab": {
          "base_uri": "https://localhost:8080/",
          "height": 211
        },
        "id": "eFPZCKOnjDzQ",
        "outputId": "bae2be7c-bf52-4cf1-a559-5fafb9f6e8ca"
      },
      "outputs": [
        {
          "data": {
            "image/png": "[encoded data removed]",
            "text/plain": [
              "<Figure size 1000x500 with 2 Axes>"
            ]
          },
          "metadata": {},
          "output_type": "display_data"
        }
      ],
      "source": [
        "user_ratings_freq = ratings_dataset['userId'].value_counts().sort_index()\n",
        "movie_ratings_freq = ratings_dataset['movieId'].value_counts().sort_index()\n",
        "\n",
        "unique_user_ratings, user_freqs = np.unique(np.array(user_ratings_freq), return_counts = True)\n",
        "unique_movie_ratings, movie_freqs = np.unique(np.array(movie_ratings_freq), return_counts = True)\n",
        "\n",
        "plt.figure(figsize=(10, 5))\n",
        "plt.subplot(1, 2, 1)\n",
        "plt.loglog(unique_user_ratings, user_freqs, color = 'blue')\n",
        "plt.title('User Ratings Distribution')\n",
        "plt.xlabel('Rating')\n",
        "plt.ylabel('Frequency')\n",
        "\n",
        "plt.subplot(1, 2, 2)\n",
        "plt.loglog(unique_movie_ratings, movie_freqs, color = 'orange')\n",
        "plt.title('Movie Ratings Distribution')\n",
        "plt.xlabel('Rating')\n",
        "plt.ylabel('Frequency')\n",
        "plt.savefig('power_law_dist.pdf')\n",
        "\n",
        "plt.show()"
      ]
    },
    {
      "cell_type": "code",
      "execution_count": null,
      "metadata": {
        "id": "6gcHD2qlWxSQ",
        "outputId": "06f0ca55-ede7-425b-9faa-bfed303c7b3d"
      },
      "outputs": [
        {
          "name": "stdout",
          "output_type": "stream",
          "text": [
            "Num users: 610  Num movies: 9724\n"
          ]
        },
        {
          "name": "stderr",
          "output_type": "stream",
          "text": [
            "100%|███████████████████████████████████████████| 30/30 [00:05<00:00,  5.24it/s]\n"
          ]
        }
      ],
      "source": [
        "gc.disable()\n",
        "num_users = len(users_train_set)\n",
        "num_movies = len(movies_train_set)\n",
        "\n",
        "print(f\"Num users: {num_users}  Num movies: {num_movies}\")\n",
        "\n",
        "gamma = 0.0000002\n",
        "spread = 1.2\n",
        "tau = 0.00005\n",
        "\n",
        "K = 10\n",
        "\n",
        "user_biases = np.zeros(num_users)\n",
        "item_biases = np.zeros(num_movies)\n",
        "\n",
        "train_losses = []\n",
        "test_losses = []\n",
        "\n",
        "train_rmses = []\n",
        "test_rmses = []\n",
        "\n",
        "train_rmse = 0\n",
        "test_rmse = 0\n",
        "\n",
        "for i in tqdm(range(30)):\n",
        "    # Update user biases\n",
        "    for m in range(num_users):\n",
        "        ratings = np.array(users_train_set[m])\n",
        "        item_ids = ratings[:, 0].astype(int)\n",
        "        item_ratings = ratings[:, 1]\n",
        "        biases = spread * (item_ratings - item_biases[item_ids] - user_biases[m])\n",
        "        user_biases[m] = np.sum(biases) / (spread * len(biases) + gamma)\n",
        "\n",
        "\n",
        "    for n in range(num_movies):\n",
        "        ratings = np.array(movies_train_set[n])\n",
        "        user_ids = ratings[:, 0].astype(int)\n",
        "        user_ratings = ratings[:, 1]\n",
        "        biases = spread * (user_ratings - user_biases[user_ids] - item_biases[n])\n",
        "        item_biases[n] = np.sum(biases) / (spread * len(biases) + gamma)\n",
        "\n",
        "    total = 0\n",
        "    errors = 0\n",
        "    loss = 0\n",
        "    for m in range(num_users):\n",
        "        ratings = np.array(users_train_set[m])\n",
        "        item_ids = ratings[:, 0].astype(int)\n",
        "        item_ratings = ratings[:, 1]\n",
        "        errors += np.sum((item_ratings - item_biases[item_ids]) ** 2)\n",
        "        loss += -0.5 * spread * np.sum((item_ratings - item_biases[item_ids] - user_biases[m]) ** 2) - 0.5 * gamma * (user_biases[m] ** 2 + np.sum(item_biases[item_ids] ** 2))\n",
        "        total += len(item_ratings)\n",
        "    train_rmses.append(errors / total)\n",
        "    train_losses.append(loss)\n"
      ]
    },
    {
      "cell_type": "code",
      "execution_count": 8,
      "metadata": {
        "id": "XAet4rQOWxSR"
      },
      "outputs": [],
      "source": [
        "import seaborn as sns"
      ]
    },
    {
      "cell_type": "code",
      "source": [
        "plt.figure(figsize=(10, 6))  # Set the size of the plot\n",
        "\n",
        "hist, bins, _ = plt.hist(ratings_dataset['rating'], bins=10, color='skyblue', edgecolor='black', density = True)\n",
        "max_bin_idx = np.argmax(hist)\n",
        "max_bin = bins[max_bin_idx]\n",
        "\n",
        "plt.title('Distribution of Movie Ratings')  # Set the title of the plot\n",
        "plt.xlabel('Rating')  # Set the label for the x-axis\n",
        "plt.ylabel('Frequency')  # Set the label for the y-axis\n",
        "plt.xticks(range(6))  # Set ticks for x-axis (0 to 5)\n",
        "plt.grid(axis='y', linestyle='--', alpha=0.7)\n",
        "plt.tight_layout()\n",
        "plt.savefig(\"histogram_of_ratings.pdf\")\n",
        "plt.show()\n",
        "print(max_bin)\n",
        "print(bins[max_bin_idx + 1])\n"
      ],
      "metadata": {
        "colab": {
          "base_uri": "https://localhost:8080/",
          "height": 642
        },
        "id": "yPNJ5GGp626e",
        "outputId": "54c89b3b-3860-40b2-cf0b-a40e19890095"
      },
      "execution_count": 31,
      "outputs": [
        {
          "output_type": "display_data",
          "data": {
            "text/plain": [
              "<Figure size 1000x600 with 1 Axes>"
            ],
            "image/png": "[encoded data removed]"
          },
          "metadata": {}
        },
        {
          "output_type": "stream",
          "name": "stdout",
          "text": [
            "3.65\n",
            "4.1\n"
          ]
        }
      ]
    },
    {
      "cell_type": "code",
      "source": [],
      "metadata": {
        "id": "7tdSVwuppWjt"
      },
      "execution_count": null,
      "outputs": []
    },
    {
      "cell_type": "code",
      "source": [
        "user_bias = ratings_dataset.groupby('userId')['rating'].mean()\n",
        "item_bias = ratings_dataset.groupby('movieId')['rating'].mean()\n",
        "\n",
        "plt.figure(figsize=(12, 5))\n",
        "\n",
        "plt.subplot(1, 2, 1)\n",
        "sns.histplot(user_bias, bins=50, kde=True)\n",
        "plt.title('User Bias Distribution')\n",
        "plt.xlabel('Average Rating')\n",
        "plt.ylabel('Frequency')\n",
        "#plt.show()\n",
        "\n",
        "plt.subplot(1, 2, 2)\n",
        "sns.histplot(item_bias, bins=50, kde=True)\n",
        "plt.title('Movie Bias Distribution')\n",
        "plt.xlabel('Average Rating')\n",
        "plt.ylabel('Frequency')\n",
        "plt.savefig(\"user_and_item_bias_distribution.pdf\")\n",
        "plt.show()\n"
      ],
      "metadata": {
        "colab": {
          "base_uri": "https://localhost:8080/",
          "height": 487
        },
        "id": "1BrpQDQuGmnz",
        "outputId": "5501df02-cbf2-4fc4-ee94-5f89155bcec2"
      },
      "execution_count": 33,
      "outputs": [
        {
          "output_type": "display_data",
          "data": {
            "text/plain": [
              "<Figure size 1200x500 with 2 Axes>"
            ],
            "image/png": "[encoded data removed]"
          },
          "metadata": {}
        }
      ]
    },
    {
      "cell_type": "code",
      "source": [],
      "metadata": {
        "id": "0IcmBfr-GzyA"
      },
      "execution_count": null,
      "outputs": []
    }
  ],
  "metadata": {
    "colab": {
      "provenance": []
    },
    "kernelspec": {
      "display_name": "pytorch",
      "language": "python",
      "name": "pytorch"
    },
    "language_info": {
      "codemirror_mode": {
        "name": "ipython",
        "version": 3
      },
      "file_extension": ".py",
      "mimetype": "text/x-python",
      "name": "python",
      "nbconvert_exporter": "python",
      "pygments_lexer": "ipython3",
      "version": "3.11.2"
    }
  },
  "nbformat": 4,
  "nbformat_minor": 0
}